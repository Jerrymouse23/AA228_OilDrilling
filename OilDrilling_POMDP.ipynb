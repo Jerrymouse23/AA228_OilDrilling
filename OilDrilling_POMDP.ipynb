{
 "cells": [
  {
   "cell_type": "code",
   "execution_count": 1,
   "metadata": {},
   "outputs": [],
   "source": [
    "using DataFrames\n",
    "using POMDPs\n",
    "using POMDPToolbox\n",
    "using MCTS"
   ]
  },
  {
   "cell_type": "markdown",
   "metadata": {},
   "source": [
    "## State Representation"
   ]
  },
  {
   "cell_type": "code",
   "execution_count": 2,
   "metadata": {},
   "outputs": [],
   "source": [
    "# State struct definition\n",
    "struct ReservoirState \n",
    "    drilled::Array{Int64} # List (of length 0 to 2) of previously drilled grid indices\n",
    "    grid::Array{Int64}    # Whether each grid has oil underneath or not. \n",
    "                          # Also directly used as reward value. \n",
    "end"
   ]
  },
  {
   "cell_type": "markdown",
   "metadata": {},
   "source": [
    "## POMDP Object Definition"
   ]
  },
  {
   "cell_type": "code",
   "execution_count": 3,
   "metadata": {},
   "outputs": [],
   "source": [
    "# Definition of POMDP\n",
    "# State: ReservoirState (<OilGridValues, DrillingHistory> pair)\n",
    "# Action: Int64 (2d coordinate flattened to linear index)\n",
    "# Observation: Array{Int64} (Grid values, each indicating HasRock = 0 or 1)\n",
    "type ReservoirPOMDP <: POMDP{ReservoirState, Int64, Array{Int64}} \n",
    "    size_grid::Int64 # Size of the grid space (2d coordinate flattened to linear index) \n",
    "    penalty::Int64   # Penalty for drilling on a previously grid\n",
    "    p_rock::Float64  # Probability that whether a grid has rock matches whether the grid has oil underneath\n",
    "                     # p_rock == P( rock[ind]==0 | oil[ind]==0 ) == P( rock[ind]==1 | oil[ind]==1 )\n",
    "end"
   ]
  },
  {
   "cell_type": "code",
   "execution_count": 4,
   "metadata": {},
   "outputs": [
    {
     "data": {
      "text/plain": [
       "ReservoirPOMDP(9, -100, 0.8)"
      ]
     },
     "execution_count": 4,
     "metadata": {},
     "output_type": "execute_result"
    }
   ],
   "source": [
    "# Default Constructor\n",
    "# size_grid: 9 (3x3)\n",
    "# penalty: -100\n",
    "# p_rock: 0.8\n",
    "function ReservoirPOMDP()\n",
    "    return ReservoirPOMDP(9, -100, 0.8)\n",
    "end"
   ]
  },
  {
   "cell_type": "markdown",
   "metadata": {},
   "source": [
    "## State/Action/Observation Space Definition"
   ]
  },
  {
   "cell_type": "code",
   "execution_count": 5,
   "metadata": {},
   "outputs": [
    {
     "name": "stdout",
     "output_type": "stream",
     "text": [
      "Generating state space.\n",
      "Generating states at depth 0...\n",
      "Depth 0 done.\n",
      "Generating states at depth 1...\n",
      "Depth 1 done.\n",
      "Generating states at depth 2...\n",
      "Depth 2 done.\n",
      "Generating states at depth 3...\n",
      "Depth 3 done.\n",
      "State space generated.\n",
      "Length of state_space: 300032\n"
     ]
    },
    {
     "data": {
      "text/plain": [
       "300032-element Array{ReservoirState,1}:\n",
       " ReservoirState(Int64[], [0, 0, 0, 0, 0, 0, 0, 0, 0])  \n",
       " ReservoirState(Int64[], [0, 0, 0, 0, 0, 0, 0, 0, 1])  \n",
       " ReservoirState(Int64[], [0, 0, 0, 0, 0, 0, 0, 1, 0])  \n",
       " ReservoirState(Int64[], [0, 0, 0, 0, 0, 0, 0, 1, 1])  \n",
       " ReservoirState(Int64[], [0, 0, 0, 0, 0, 0, 1, 0, 0])  \n",
       " ReservoirState(Int64[], [0, 0, 0, 0, 0, 0, 1, 0, 1])  \n",
       " ReservoirState(Int64[], [0, 0, 0, 0, 0, 0, 1, 1, 0])  \n",
       " ReservoirState(Int64[], [0, 0, 0, 0, 0, 0, 1, 1, 1])  \n",
       " ReservoirState(Int64[], [0, 0, 0, 0, 0, 1, 0, 0, 0])  \n",
       " ReservoirState(Int64[], [0, 0, 0, 0, 0, 1, 0, 0, 1])  \n",
       " ReservoirState(Int64[], [0, 0, 0, 0, 0, 1, 0, 1, 0])  \n",
       " ReservoirState(Int64[], [0, 0, 0, 0, 0, 1, 0, 1, 1])  \n",
       " ReservoirState(Int64[], [0, 0, 0, 0, 0, 1, 1, 0, 0])  \n",
       " ⋮                                                     \n",
       " ReservoirState([9, 8, 7], [1, 1, 1, 1, 1, 0, 1, 0, 0])\n",
       " ReservoirState([9, 8, 7], [1, 1, 1, 1, 1, 0, 1, 0, 1])\n",
       " ReservoirState([9, 8, 7], [1, 1, 1, 1, 1, 0, 1, 1, 0])\n",
       " ReservoirState([9, 8, 7], [1, 1, 1, 1, 1, 0, 1, 1, 1])\n",
       " ReservoirState([9, 8, 7], [1, 1, 1, 1, 1, 1, 0, 0, 0])\n",
       " ReservoirState([9, 8, 7], [1, 1, 1, 1, 1, 1, 0, 0, 1])\n",
       " ReservoirState([9, 8, 7], [1, 1, 1, 1, 1, 1, 0, 1, 0])\n",
       " ReservoirState([9, 8, 7], [1, 1, 1, 1, 1, 1, 0, 1, 1])\n",
       " ReservoirState([9, 8, 7], [1, 1, 1, 1, 1, 1, 1, 0, 0])\n",
       " ReservoirState([9, 8, 7], [1, 1, 1, 1, 1, 1, 1, 0, 1])\n",
       " ReservoirState([9, 8, 7], [1, 1, 1, 1, 1, 1, 1, 1, 0])\n",
       " ReservoirState([9, 8, 7], [1, 1, 1, 1, 1, 1, 1, 1, 1])"
      ]
     },
     "execution_count": 5,
     "metadata": {},
     "output_type": "execute_result"
    }
   ],
   "source": [
    "# State space definition\n",
    "println(\"Generating state space.\")\n",
    "\n",
    "# List of possible states\n",
    "state_space = ReservoirState[]\n",
    "\n",
    "# Generate states at depth 0\n",
    "println(\"Generating states at depth 0...\")\n",
    "for g1 = 0:1, g2 = 0:1, g3 = 0:1, g4 = 0:1, g5 = 0:1, g6 = 0:1, g7 = 0:1, g8 = 0:1, g9 = 0:1\n",
    "    grid = [g1, g2, g3, g4, g5, g6, g7, g8, g9]\n",
    "    push!(state_space, ReservoirState([], grid))\n",
    "end\n",
    "println(\"Depth 0 done.\")\n",
    "\n",
    "# Generate states at depth 1\n",
    "println(\"Generating states at depth 1...\")\n",
    "for i=1:pomdp.size_grid\n",
    "    for g1 = 0:1, g2 = 0:1, g3 = 0:1, g4 = 0:1, g5 = 0:1, g6 = 0:1, g7 = 0:1, g8 = 0:1, g9 = 0:1\n",
    "        grid = [g1, g2, g3, g4, g5, g6, g7, g8, g9]\n",
    "        push!(state_space, ReservoirState([i], grid))\n",
    "    end\n",
    "end\n",
    "println(\"Depth 1 done.\")\n",
    "\n",
    "# Generate states at depth 2\n",
    "println(\"Generating states at depth 2...\")\n",
    "for i=1:pomdp.size_grid, j=1:pomdp.size_grid\n",
    "    if (i != j) # Avoid duplicate drilling\n",
    "        for g1 = 0:1, g2 = 0:1, g3 = 0:1, g4 = 0:1, g5 = 0:1, g6 = 0:1, g7 = 0:1, g8 = 0:1, g9 = 0:1\n",
    "            grid = [g1, g2, g3, g4, g5, g6, g7, g8, g9]\n",
    "            push!(state_space, ReservoirState([i, j], grid))\n",
    "        end\n",
    "    end\n",
    "end\n",
    "println(\"Depth 2 done.\")\n",
    "\n",
    "# Generate states at depth 3\n",
    "println(\"Generating states at depth 3...\")\n",
    "for i=1:pomdp.size_grid, j=1:pomdp.size_grid, k=1:pomdp.size_grid\n",
    "    if (!((i == j) || (j == k) || (k == i)))\n",
    "        for g1 = 0:1, g2 = 0:1, g3 = 0:1, g4 = 0:1, g5 = 0:1, g6 = 0:1, g7 = 0:1, g8 = 0:1, g9 = 0:1\n",
    "            grid = [g1, g2, g3, g4, g5, g6, g7, g8, g9]\n",
    "            push!(state_space, ReservoirState([i, j, k], grid))\n",
    "        end\n",
    "    end\n",
    "end\n",
    "println(\"Depth 3 done.\")\n",
    "\n",
    "println(\"State space generated.\")\n",
    "println(\"Length of state_space: \", length(state_space))\n",
    "\n",
    "POMDPs.states(pomdp::ReservoirPOMDP) = state_space\n",
    "\n",
    "# Test\n",
    "POMDPs.states(pomdp)"
   ]
  },
  {
   "cell_type": "code",
   "execution_count": 6,
   "metadata": {},
   "outputs": [],
   "source": [
    "# Returns number of states\n",
    "function POMDPs.n_states(pomdp::ReservoirPOMDP)\n",
    "    return length(states(pomdp))\n",
    "end"
   ]
  },
  {
   "cell_type": "code",
   "execution_count": 7,
   "metadata": {},
   "outputs": [
    {
     "name": "stdout",
     "output_type": "stream",
     "text": [
      "Generating action space.\n",
      "Action space generated.\n",
      "Length of action_space: 9\n"
     ]
    },
    {
     "data": {
      "text/plain": [
       "9-element Array{Any,1}:\n",
       " 1\n",
       " 2\n",
       " 3\n",
       " 4\n",
       " 5\n",
       " 6\n",
       " 7\n",
       " 8\n",
       " 9"
      ]
     },
     "execution_count": 7,
     "metadata": {},
     "output_type": "execute_result"
    }
   ],
   "source": [
    "# Action space definition\n",
    "println(\"Generating action space.\")\n",
    "\n",
    "# List of possible actions\n",
    "action_space = []\n",
    "\n",
    "# Iterate through all possible actions (i.e. pick a grid)\n",
    "for x = 1:pomdp.size_grid\n",
    "    push!(action_space, x)\n",
    "end\n",
    "\n",
    "println(\"Action space generated.\")\n",
    "println(\"Length of action_space: \", length(action_space))\n",
    "\n",
    "POMDPs.actions(pomdp::ReservoirPOMDP) = action_space\n",
    "\n",
    "# Test\n",
    "POMDPs.actions(pomdp)"
   ]
  },
  {
   "cell_type": "code",
   "execution_count": 8,
   "metadata": {},
   "outputs": [],
   "source": [
    "# Returns number of actions\n",
    "function POMDPs.n_actions(pomdp::ReservoirPOMDP)\n",
    "    return length(actions(pomdp))\n",
    "end"
   ]
  },
  {
   "cell_type": "code",
   "execution_count": 9,
   "metadata": {},
   "outputs": [
    {
     "name": "stdout",
     "output_type": "stream",
     "text": [
      "Observation space generated.\n",
      "Length of obs_space: 4608\n"
     ]
    },
    {
     "data": {
      "text/plain": [
       "4608-element Array{Any,1}:\n",
       " [0, 0, 0, 0, 0, 0, 0, 0, 0]\n",
       " [0, 0, 0, 0, 0, 0, 0, 0, 1]\n",
       " [0, 0, 0, 0, 0, 0, 0, 1, 0]\n",
       " [0, 0, 0, 0, 0, 0, 0, 1, 1]\n",
       " [0, 0, 0, 0, 0, 0, 1, 0, 0]\n",
       " [0, 0, 0, 0, 0, 0, 1, 0, 1]\n",
       " [0, 0, 0, 0, 0, 0, 1, 1, 0]\n",
       " [0, 0, 0, 0, 0, 0, 1, 1, 1]\n",
       " [0, 0, 0, 0, 0, 1, 0, 0, 0]\n",
       " [0, 0, 0, 0, 0, 1, 0, 0, 1]\n",
       " [0, 0, 0, 0, 0, 1, 0, 1, 0]\n",
       " [0, 0, 0, 0, 0, 1, 0, 1, 1]\n",
       " [0, 0, 0, 0, 0, 1, 1, 0, 0]\n",
       " ⋮                          \n",
       " [1, 1, 1, 1, 1, 0, 1, 0, 0]\n",
       " [1, 1, 1, 1, 1, 0, 1, 0, 1]\n",
       " [1, 1, 1, 1, 1, 0, 1, 1, 0]\n",
       " [1, 1, 1, 1, 1, 0, 1, 1, 1]\n",
       " [1, 1, 1, 1, 1, 1, 0, 0, 0]\n",
       " [1, 1, 1, 1, 1, 1, 0, 0, 1]\n",
       " [1, 1, 1, 1, 1, 1, 0, 1, 0]\n",
       " [1, 1, 1, 1, 1, 1, 0, 1, 1]\n",
       " [1, 1, 1, 1, 1, 1, 1, 0, 0]\n",
       " [1, 1, 1, 1, 1, 1, 1, 0, 1]\n",
       " [1, 1, 1, 1, 1, 1, 1, 1, 0]\n",
       " [1, 1, 1, 1, 1, 1, 1, 1, 1]"
      ]
     },
     "execution_count": 9,
     "metadata": {},
     "output_type": "execute_result"
    }
   ],
   "source": [
    "# Observation space definition\n",
    "\n",
    "# List of possible observations\n",
    "obs_space = []\n",
    "\n",
    "# List of possible observation values for *each grid*\n",
    "ind_obs = []\n",
    "for o1 = 0:1\n",
    "    push!(ind_obs, o1)\n",
    "end\n",
    "\n",
    "# Genearate all possible observations\n",
    "for i = 1:pomdp.size_grid\n",
    "    for g1 = 1:length(ind_obs), g2 = 1:length(ind_obs), g3 = 1:length(ind_obs), g4 = 1:length(ind_obs),\n",
    "        g5 = 1:length(ind_obs), g6 = 1:length(ind_obs), g7 = 1:length(ind_obs), g8 = 1:length(ind_obs),\n",
    "        g9 = 1:length(ind_obs)\n",
    "        o = [ind_obs[g1], ind_obs[g2], ind_obs[g3], ind_obs[g4],\n",
    "             ind_obs[g5], ind_obs[g6], ind_obs[g7], ind_obs[g8], ind_obs[g9]]\n",
    "        push!(obs_space, o)\n",
    "    end\n",
    "end\n",
    "\n",
    "println(\"Observation space generated.\")\n",
    "println(\"Length of obs_space: \", length(obs_space))\n",
    "\n",
    "POMDPs.observations(pomdp::ReservoirPOMDP) = obs_space\n",
    "\n",
    "# Test\n",
    "POMDPs.observations(pomdp)"
   ]
  },
  {
   "cell_type": "code",
   "execution_count": 10,
   "metadata": {},
   "outputs": [],
   "source": [
    "# Returns number of observations\n",
    "function POMDPs.n_observations(pomdp::ReservoirPOMDP)\n",
    "    return length(observations(pomdp))\n",
    "end"
   ]
  },
  {
   "cell_type": "markdown",
   "metadata": {},
   "source": [
    "## Reward Function"
   ]
  },
  {
   "cell_type": "code",
   "execution_count": 11,
   "metadata": {},
   "outputs": [],
   "source": [
    "# Immediate reward, R(s,a)\n",
    "# In our model R(s,a) is invariant on sp\n",
    "function POMDPs.reward(pomdp::ReservoirPOMDP, s::ReservoirState, a::Int64)\n",
    "    if (a in s.drilled)\n",
    "        # If previously drilled: Get no oil & apply penalty\n",
    "        return pomdp.penalty\n",
    "    else\n",
    "        # Otherwise: Take oil\n",
    "        return s.grid[a]\n",
    "    end\n",
    "end\n",
    "\n",
    "POMDPs.reward(pomdp::ReservoirPOMDP, s::ReservoirState, a::Int64, sp::ReservoirState) = reward(pomdp, s, a);"
   ]
  },
  {
   "cell_type": "markdown",
   "metadata": {},
   "source": [
    "## Transition/Observation/Initial-State Distribution Definition"
   ]
  },
  {
   "cell_type": "code",
   "execution_count": 12,
   "metadata": {},
   "outputs": [],
   "source": [
    "# Transition distribution\n",
    "struct TransitionDistribution\n",
    "    s::ReservoirState\n",
    "    a::Int64\n",
    "end\n",
    "function POMDPs.transition(pomdp::ReservoirPOMDP, s::ReservoirState, a::Int64)\n",
    "    return TransitionDistribution(s, a)\n",
    "end\n",
    "\n",
    "# Calculates T(sp | s,a)\n",
    "# Note that in our model the transition is deterministic\n",
    "function POMDPs.pdf(d::TransitionDistribution, sp::ReservoirState)\n",
    "    history = copy(d.s.drilled)\n",
    "    push!(history, a)\n",
    "    if ((history == sp.drilled) && (s.grid == sp.grid))\n",
    "        # T(sp | s,a)=1 iff s.drilled + action == sp.drilled\n",
    "        return 1.0\n",
    "    else\n",
    "        # T(sp | s,a)=0 otherwise\n",
    "        return 0.0\n",
    "    end\n",
    "end\n",
    "\n",
    "# Randomly sample one transition, given an <s,a> pair\n",
    "function POMDPs.rand(rng::AbstractRNG, d::TransitionDistribution)\n",
    "    new_drilled = copy(d.s.drilled)\n",
    "    push!(new_drilled, d.a)\n",
    "    return ReservoirState(new_drilled, copy(d.s.grid))\n",
    "end"
   ]
  },
  {
   "cell_type": "code",
   "execution_count": 13,
   "metadata": {},
   "outputs": [],
   "source": [
    "# Observation distribution for rock\n",
    "struct RockObsDistribution\n",
    "    s::ReservoirState\n",
    "    p_rock::Float64\n",
    "end\n",
    "function POMDPs.observation(pomdp::ReservoirPOMDP, s::ReservoirState, a::Int64, sp::ReservoirState)\n",
    "    return RockObsDistribution(sp, pomdp.p_rock)\n",
    "end\n",
    "\n",
    "# Calculates P(o | s)\n",
    "function POMDPs.pdf(d::RockObsDistribution, o::Array{Int64})\n",
    "#   P(o|s) = Product[for each grid](P( rock == o[this_grid] | oil == s[this_grid] ))\n",
    "    prod = 1.0\n",
    "    for i = 1:length(o)\n",
    "        # Oil:  d.s.grid[i]\n",
    "        # Rock: o[i]\n",
    "        if (o[i] == d.s.grid[i])\n",
    "            # P(o[i]==1 | s[i]==1) == P(o[i]==0 | s[i]==0) = d.p_rock\n",
    "            prod = prod * d.p_rock\n",
    "        else\n",
    "            # P(o[i]==1 | s[i]==0) == P(o[i]==0 | s[i]==1) = (1 - d.p_rock)\n",
    "            prod = prod * (1 - d.p_rock)\n",
    "        end\n",
    "    end\n",
    "    return prod\n",
    "end;\n",
    "\n",
    "# Randomly sample one observation, given a true hidden state\n",
    "function POMDPs.rand(rng::AbstractRNG, d::RockObsDistribution)\n",
    "    rng = MersenneTwister(19)\n",
    "    o = []\n",
    "    for i = 1:9\n",
    "        if Base.rand(rng, Float64) < d.p_rock\n",
    "            push!(o, d.s.grid[i])\n",
    "        else\n",
    "            push!(o, 1-d.s.grid[i])\n",
    "        end\n",
    "    end\n",
    "    return o\n",
    "end"
   ]
  },
  {
   "cell_type": "code",
   "execution_count": 14,
   "metadata": {},
   "outputs": [],
   "source": [
    "# Initial state distribution\n",
    "struct InitialStateDistribution\n",
    "    p_rock::Float64\n",
    "end\n",
    "function POMDPs.initial_state_distribution(pomdp::ReservoirPOMDP)\n",
    "    return InitialStateDistribution(pomdp.p_rock)\n",
    "end\n",
    "\n",
    "# Randomly generates an initial state\n",
    "# drilled = empty\n",
    "# grid = Uniformly random 0/1 oil value for each grid\n",
    "function POMDPs.rand(rng::AbstractRNG, d::InitialStateDistribution)\n",
    "    rng = MersenneTwister(19)\n",
    "    grid = []\n",
    "    for i = 1:9\n",
    "        if Base.rand(rng, Float64) < 0.5\n",
    "            push!(grid, 0)\n",
    "        else\n",
    "            push!(grid, 1)\n",
    "        end\n",
    "    end\n",
    "    return ReservoirState([], grid)\n",
    "end"
   ]
  },
  {
   "cell_type": "markdown",
   "metadata": {},
   "source": [
    "## Sample Instance Creation"
   ]
  },
  {
   "cell_type": "code",
   "execution_count": null,
   "metadata": {},
   "outputs": [],
   "source": [
    "# Create an instance\n",
    "pomdp = ReservoirPOMDP()"
   ]
  }
 ],
 "metadata": {
  "kernelspec": {
   "display_name": "Julia 0.6.1",
   "language": "julia",
   "name": "julia-0.6"
  },
  "language_info": {
   "file_extension": ".jl",
   "mimetype": "application/julia",
   "name": "julia",
   "version": "0.6.1"
  }
 },
 "nbformat": 4,
 "nbformat_minor": 2
}
